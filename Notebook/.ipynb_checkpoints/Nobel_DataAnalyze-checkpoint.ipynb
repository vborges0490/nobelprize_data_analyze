{
 "cells": [
  {
   "cell_type": "code",
   "execution_count": null,
   "id": "16e8b00d-87d0-42c0-8c54-33edddbd4ee0",
   "metadata": {},
   "outputs": [],
   "source": [
    "import pandas as pd\n",
    "import matplotlib.pyplot as plt\n",
    "import plotly.express as px\n",
    "import plotly.io as pio\n",
    "import numpy as np\n",
    "from dotenv import load_dotenv\n",
    "\n",
    "load_dotenv()\n",
    "\n",
    "df = pd.read_csv(r'CSV_PATH')"
   ]
  },
  {
   "cell_type": "code",
   "execution_count": null,
   "id": "b4bcec44-86b9-4331-8716-6b174068d932",
   "metadata": {},
   "outputs": [],
   "source": [
    "display(df.head())"
   ]
  },
  {
   "cell_type": "code",
   "execution_count": null,
   "id": "1c6c6243-7ee4-4668-a5a8-a95cfd75d4f1",
   "metadata": {
    "scrolled": true
   },
   "outputs": [],
   "source": [
    "print(df.isnull().sum())"
   ]
  },
  {
   "cell_type": "code",
   "execution_count": null,
   "id": "cbf4577b-b8cb-43af-881a-c9c6f89b0115",
   "metadata": {},
   "outputs": [],
   "source": [
    "print(df['Category'].value_counts())"
   ]
  },
  {
   "cell_type": "code",
   "execution_count": null,
   "id": "abc96b65-988d-48b5-9710-b47cb2008cc5",
   "metadata": {},
   "outputs": [],
   "source": [
    "print(df.groupby('Category')['Prize Amount'].mean())"
   ]
  },
  {
   "cell_type": "code",
   "execution_count": null,
   "id": "2e16ca82-804c-4f02-bd0b-c06f4b372319",
   "metadata": {},
   "outputs": [],
   "source": [
    "df['Prize Amount'] = df['Prize Amount'].replace('[^\\d.]', '', regex=True).astype(float).astype(int)\n",
    "df['Prize Amount Adjusted'] = df['Prize Amount Adjusted'].replace('[^\\d.]', '', regex=True).astype(float).astype(int)"
   ]
  },
  {
   "cell_type": "code",
   "execution_count": null,
   "id": "df387740-eaf9-4a22-ae53-fa78295479ee",
   "metadata": {},
   "outputs": [],
   "source": [
    "print(df.dtypes)"
   ]
  },
  {
   "cell_type": "code",
   "execution_count": null,
   "id": "60be2f1b-a6a7-4b3b-8b8d-52e91a08b101",
   "metadata": {},
   "outputs": [],
   "source": [
    "print(df[['Prize Amount', 'Prize Amount Adjusted']].head())"
   ]
  },
  {
   "cell_type": "code",
   "execution_count": null,
   "id": "01680876-8b2d-406c-b96c-58b429424e13",
   "metadata": {},
   "outputs": [],
   "source": [
    "for column in df.select_dtypes(include=['object']).columns:\n",
    "    print(f\"--- {column} ---\")\n",
    "    print(df[column].value_counts())\n",
    "    print(\"\\n\")"
   ]
  },
  {
   "cell_type": "code",
   "execution_count": null,
   "id": "cc3c7c42-7dc4-4854-a8fc-bdb20f5eaec0",
   "metadata": {},
   "outputs": [],
   "source": [
    "unknown_names = df[df['Gender'] == 'Unknown']\n",
    "display(unknown_names)"
   ]
  },
  {
   "cell_type": "code",
   "execution_count": null,
   "id": "9643973f-97d7-466c-87a5-31188f63c55c",
   "metadata": {},
   "outputs": [],
   "source": [
    "df = df[df['Gender'] != 'Unknown']"
   ]
  },
  {
   "cell_type": "code",
   "execution_count": null,
   "id": "03f89e00-8dfa-4d0f-a828-502104cb0491",
   "metadata": {},
   "outputs": [],
   "source": [
    "awards_per_year = df['Award Year'].value_counts().sort_index()\n",
    "print(awards_per_year)\n",
    "\n",
    "total_prize_amount_per_year = df.groupby('Award Year')['Prize Amount'].sum()"
   ]
  },
  {
   "cell_type": "code",
   "execution_count": null,
   "id": "86e3a411-2603-4dd2-9a65-6d6db4bb7871",
   "metadata": {},
   "outputs": [],
   "source": [
    "print(df['Gender'].value_counts())"
   ]
  },
  {
   "cell_type": "code",
   "execution_count": null,
   "id": "461c78c8-af1b-453c-92df-d1267236e0e4",
   "metadata": {},
   "outputs": [],
   "source": [
    "gender_discrepancy = df.groupby(['Category', 'Gender'])['Laureate Name'].count().reset_index(name='Count')\n",
    "\n",
    "print(gender_discrepancy)"
   ]
  },
  {
   "cell_type": "code",
   "execution_count": null,
   "id": "6cd6107f-4862-4316-8178-27aee5605c79",
   "metadata": {},
   "outputs": [],
   "source": [
    "pivot_table = gender_discrepancy.pivot(index='Category', columns='Gender', values='Count').fillna(0)\n",
    "\n",
    "print(pivot_table)"
   ]
  },
  {
   "cell_type": "code",
   "execution_count": null,
   "id": "3890da56-747e-4ea7-897b-f3636b5e8f9a",
   "metadata": {},
   "outputs": [],
   "source": [
    "pivot_table.plot(kind='bar', stacked=True, figsize=(10, 6))\n",
    "\n",
    "plt.title('Gender Discrepancy Across Nobel Prize Categories')\n",
    "plt.xlabel('Category')\n",
    "plt.ylabel('Number of Awards')\n",
    "plt.legend(title='Gender')\n",
    "\n",
    "plt.show()"
   ]
  },
  {
   "cell_type": "code",
   "execution_count": null,
   "id": "7e1091ed-92b1-44b4-9ed0-6f726b9ac344",
   "metadata": {},
   "outputs": [],
   "source": [
    "female_winners = df[df['Gender'] == 'female']\n",
    "\n",
    "female_winners_per_year = female_winners.groupby('Award Year')['Laureate Name'].count()\n",
    "\n",
    "plt.figure(figsize=(12, 6))\n",
    "female_winners_per_year.plot(kind='line')\n",
    "plt.title('Trend of Female Nobel Prize Winners Over Time')\n",
    "plt.xlabel('Year')\n",
    "plt.ylabel('Number of Female Winners')\n",
    "plt.grid(True)\n",
    "plt.show()"
   ]
  },
  {
   "cell_type": "code",
   "execution_count": null,
   "id": "a1de89f3-9f99-4f66-86c9-91916e20e4eb",
   "metadata": {},
   "outputs": [],
   "source": [
    "male_winners = df[df['Gender'] == 'male']\n",
    "\n",
    "male_winners_per_year = male_winners.groupby('Award Year')['Laureate Name'].count()\n",
    "\n",
    "plt.figure(figsize=(12, 6))\n",
    "male_winners_per_year.plot(kind='line')\n",
    "plt.title('Trend of Male Nobel Prize Winners Over Time')\n",
    "plt.xlabel('Year')\n",
    "plt.ylabel('Number of Female Winners')\n",
    "plt.grid(True)\n",
    "plt.show()"
   ]
  },
  {
   "cell_type": "code",
   "execution_count": null,
   "id": "cabbf875-3762-4982-8adf-ffda4df060e7",
   "metadata": {},
   "outputs": [],
   "source": [
    "female_winners_by_category = female_winners.groupby('Category')['Laureate Name'].count()"
   ]
  },
  {
   "cell_type": "code",
   "execution_count": null,
   "id": "55a1ac5e-c768-48b3-843f-b6149d505bfd",
   "metadata": {},
   "outputs": [],
   "source": [
    "male_winners_by_category = male_winners.groupby('Category')['Laureate Name'].count()"
   ]
  },
  {
   "cell_type": "code",
   "execution_count": null,
   "id": "da960ae7-c668-4625-b48d-5134052f471d",
   "metadata": {},
   "outputs": [],
   "source": [
    "sorted_female_winners_by_category = female_winners_by_category.sort_values(ascending=False)\n",
    "\n",
    "plt.figure(figsize=(10, 6))\n",
    "sorted_female_winners_by_category.plot(kind='bar')\n",
    "plt.title('Number of Female Nobel Prize Winners by Category, Ordered by Winners')\n",
    "plt.xlabel('Category')\n",
    "plt.ylabel('Number of Female Winners')\n",
    "plt.xticks(rotation=45)\n",
    "plt.show()"
   ]
  },
  {
   "cell_type": "code",
   "execution_count": null,
   "id": "e0e061b7-366e-4081-9ba5-80bea7ea9081",
   "metadata": {},
   "outputs": [],
   "source": [
    "sorted_male_winners_by_category = male_winners_by_category.sort_values(ascending=False)\n",
    "\n",
    "plt.figure(figsize=(10, 6))\n",
    "sorted_male_winners_by_category.plot(kind='bar')\n",
    "plt.title('Number of Male Nobel Prize Winners by Category, Ordered by Winners')\n",
    "plt.xlabel('Category')\n",
    "plt.ylabel('Number of Male Winners')\n",
    "plt.xticks(rotation=45)\n",
    "plt.show()"
   ]
  },
  {
   "cell_type": "code",
   "execution_count": null,
   "id": "5e770e05-da02-4c9b-bf4b-1f1a575cb07e",
   "metadata": {},
   "outputs": [],
   "source": [
    "pio.renderers.default = 'iframe_connected'\n",
    "\n",
    "winners_per_country = df['Birth Country'].value_counts().reset_index()\n",
    "winners_per_country.columns = ['Country', 'Total Winners']\n",
    "\n",
    "fig = px.choropleth(winners_per_country,\n",
    "                    locations=\"Country\", \n",
    "                    locationmode=\"country names\",\n",
    "                    color=\"Total Winners\", \n",
    "                    hover_name=\"Country\", \n",
    "                    color_continuous_scale=px.colors.sequential.Plasma,\n",
    "                    title=\"Global Nobel Prize Winners by Country\")\n",
    "fig.show()"
   ]
  },
  {
   "cell_type": "code",
   "execution_count": null,
   "id": "51c23f40-f75e-46c9-8769-3fd30b895ec0",
   "metadata": {},
   "outputs": [],
   "source": [
    "df['Award Year'] = df['Award Year'].astype(int)\n",
    "\n",
    "before_1990 = df[df['Award Year'] < 1990]\n",
    "after_1990 = df[df['Award Year'] >= 1990]\n",
    "\n",
    "gender_counts_before_1990 = before_1990['Gender'].value_counts()\n",
    "gender_counts_after_1990 = after_1990['Gender'].value_counts()\n",
    "\n",
    "gender_pct_before_1990 = (gender_counts_before_1990 / gender_counts_before_1990.sum()) * 100\n",
    "gender_pct_after_1990 = (gender_counts_after_1990 / gender_counts_after_1990.sum()) * 100\n",
    "\n",
    "gender_discrepancy_df = pd.DataFrame({\n",
    "    'Before 1990 Count': gender_counts_before_1990,\n",
    "    '1990 and After Count': gender_counts_after_1990,\n",
    "    'Before 1990 (%)': gender_pct_before_1990,\n",
    "    '1990 and After (%)': gender_pct_after_1990\n",
    "}).fillna(0) \n",
    "\n",
    "total_counts = gender_discrepancy_df[['Before 1990 Count', '1990 and After Count']].sum()\n",
    "total_pct = gender_discrepancy_df[['Before 1990 (%)', '1990 and After (%)']].sum()\n",
    "gender_discrepancy_df.loc['Total'] = pd.Series({\n",
    "    'Before 1990 Count': total_counts['Before 1990 Count'],\n",
    "    '1990 and After Count': total_counts['1990 and After Count'],\n",
    "    'Before 1990 (%)': 100,\n",
    "    '1990 and After (%)': 100,\n",
    "})\n",
    "\n",
    "display(gender_discrepancy_df)"
   ]
  },
  {
   "cell_type": "code",
   "execution_count": null,
   "id": "f08a860e-7073-43f2-8ca5-756246dc01ce",
   "metadata": {},
   "outputs": [],
   "source": [
    "categories_focus = ['Physics', 'Chemistry', 'Economics']\n",
    "df_filtered = df[df['Category'].isin(categories_focus)].copy()\n",
    "\n",
    "df_filtered['Award Year'] = df_filtered['Award Year'].astype(int)\n",
    "\n",
    "before_1990_filtered = df_filtered[df_filtered['Award Year'] < 1990]\n",
    "after_1990_filtered = df_filtered[df_filtered['Award Year'] >= 1990]\n",
    "\n",
    "gender_counts_before_1990_filtered = before_1990_filtered['Gender'].value_counts()\n",
    "gender_counts_after_1990_filtered = after_1990_filtered['Gender'].value_counts()\n",
    "\n",
    "gender_pct_before_1990_filtered = (gender_counts_before_1990_filtered / gender_counts_before_1990_filtered.sum()) * 100\n",
    "gender_pct_after_1990_filtered = (gender_counts_after_1990_filtered / gender_counts_after_1990_filtered.sum()) * 100\n",
    "\n",
    "genders = df_filtered['Gender'].unique()\n",
    "x = np.arange(len(genders))  # Assuming we have two genders to plot\n",
    "width = 0.35\n",
    "\n",
    "fig, ax = plt.subplots(figsize=(10, 6))\n",
    "\n",
    "rects1 = ax.bar(x - width/2, gender_pct_before_1990_filtered, width, label='Before 1990', color='lightblue')\n",
    "rects2 = ax.bar(x + width/2, gender_pct_after_1990_filtered, width, label='1990 and After', color='lightyellow')\n",
    "\n",
    "ax.set_xlabel('Gender')\n",
    "ax.set_ylabel('Percentage')\n",
    "ax.set_title('Nobel Prize Laureates by Gender and Period (%) for Physics, Chemistry, Economics')\n",
    "ax.set_xticks(x)\n",
    "ax.set_xticklabels(gender_counts_before_1990_filtered.index) \n",
    "ax.legend()\n",
    "\n",
    "def autolabel(rects, counts):\n",
    "    for rect, count in zip(rects, counts):\n",
    "        height = rect.get_height()\n",
    "        ax.annotate(f'{height:.1f}% ({count})', \n",
    "                    xy=(rect.get_x() + rect.get_width() / 2, height),\n",
    "                    xytext=(20, -10),\n",
    "                    textcoords=\"offset points\",\n",
    "                    ha='right', va='bottom') \n",
    "\n",
    "autolabel(rects1, gender_counts_before_1990_filtered)\n",
    "autolabel(rects2, gender_counts_after_1990_filtered)\n",
    "\n",
    "plt.show()"
   ]
  },
  {
   "cell_type": "code",
   "execution_count": null,
   "id": "19b2b20e-c5b9-44eb-a1c4-7b379af63b32",
   "metadata": {
    "scrolled": true
   },
   "outputs": [],
   "source": [
    "fig, ax = plt.subplots(figsize=(10, 6))\n",
    "\n",
    "\n",
    "x = np.arange(len(gender_discrepancy_df.index[:-1])) \n",
    "width = 0.35\n",
    "\n",
    "rects1 = ax.bar(x - width/2, gender_discrepancy_df['Before 1990 (%)'][:-1], width, label='Before 1990', color='lightblue')\n",
    "rects2 = ax.bar(x + width/2, gender_discrepancy_df['1990 and After (%)'][:-1], width, label='1990 and After', color='lightyellow')\n",
    "\n",
    "ax.set_xlabel('Gender')\n",
    "ax.set_ylabel('Percentage')\n",
    "ax.set_title('Nobel Prize Laureates by Gender and Period (%)')\n",
    "ax.set_xticks(x)\n",
    "ax.set_xticklabels(gender_discrepancy_df.index[:-1]) \n",
    "ax.legend()\n",
    "\n",
    "def autolabel(rects, counts):\n",
    "    for rect, count in zip(rects, counts):\n",
    "        height = rect.get_height()\n",
    "        ax.annotate(f'{height:.1f}% ({count})',  \n",
    "                    xy=(rect.get_x() + rect.get_width() / 2, height),\n",
    "                    xytext=(20, -10), \n",
    "                    textcoords=\"offset points\",\n",
    "                    ha='right', va='bottom')  \n",
    "\n",
    "autolabel(rects1, gender_discrepancy_df['Before 1990 Count'][:-1])\n",
    "autolabel(rects2, gender_discrepancy_df['1990 and After Count'][:-1])\n",
    "\n",
    "plt.show()"
   ]
  },
  {
   "cell_type": "code",
   "execution_count": null,
   "id": "6b17159a-4bc3-4c1c-b080-8a364e17ec8d",
   "metadata": {},
   "outputs": [],
   "source": [
    "female_laureates = df[df['Gender'] == 'female']\n",
    "female_laureates_country_category = female_laureates[['Birth Country', 'Category']]\n",
    "\n",
    "print(female_laureates_country_category)"
   ]
  },
  {
   "cell_type": "code",
   "execution_count": null,
   "id": "8ca4cc01-a925-477a-bb3d-3bf9ae48d027",
   "metadata": {},
   "outputs": [],
   "source": [
    "df['Counts'] = 1  \n",
    "female_df = df[df['Gender'] == 'female']\n",
    "aggregated_data = female_df.groupby(['Birth Country', 'Category'], as_index=False)['Counts'].count()\n",
    "\n",
    "total_counts_per_country = aggregated_data.groupby('Birth Country')['Counts'].sum().reset_index()\n",
    "\n",
    "top_10_countries = total_counts_per_country.nlargest(10, 'Counts')['Birth Country']\n",
    "\n",
    "top_countries_data = aggregated_data[aggregated_data['Birth Country'].isin(top_10_countries)]\n",
    "\n",
    "color_map = {\n",
    "    'Physics': 'blue',\n",
    "    'Chemistry': 'green',\n",
    "    'Medicine': 'red',\n",
    "    'Literature': 'purple',\n",
    "    'Peace': 'gold',\n",
    "    'Economics': 'orange',\n",
    "}\n",
    "\n",
    "fig = px.bar(\n",
    "    top_countries_data,  \n",
    "    y='Birth Country',\n",
    "    x='Counts',\n",
    "    color='Category', \n",
    "    color_discrete_map=color_map,  \n",
    "    orientation='h',\n",
    "    title='Top 10 Countries with Highest Total Female Nobel Laureates by Category',\n",
    "    labels={'Counts': 'Total Number of Female Laureates', 'Birth Country': 'Birth Country', 'Category': 'Prize Category'},\n",
    "    text='Counts'\n",
    ")\n",
    "\n",
    "\n",
    "fig.update_layout(\n",
    "    xaxis_title='Total Number of Female Laureates',\n",
    "    yaxis_title='Birth Country',\n",
    "    yaxis={'categoryorder': 'total ascending'}\n",
    ")\n",
    "\n",
    "fig.show()"
   ]
  },
  {
   "cell_type": "code",
   "execution_count": null,
   "id": "ef3157f7-feae-4b5c-8882-fa909c1d156e",
   "metadata": {},
   "outputs": [],
   "source": [
    "selected_categories_data = top_countries_data[top_countries_data['Category'].isin(['Physics', 'Chemistry', 'Economics'])]\n",
    "\n",
    "# Determine the top 10 countries based on total counts\n",
    "top_10_countries = total_counts_per_country.nlargest(10, 'Counts')['Birth Country']\n",
    "\n",
    "# Filter the original aggregated dataset to include only rows for these top 10 countries\n",
    "top_countries_data = aggregated_data[aggregated_data['Birth Country'].isin(top_10_countries)]\n",
    "\n",
    "# Proceed with Plotly Express bar chart creation using the filtered data\n",
    "fig = px.bar(\n",
    "    selected_categories_data,  # This is the further filtered DataFrame\n",
    "    y='Birth Country',\n",
    "    x='Counts',\n",
    "    color='Category',  # This assigns a different color to each of the selected categories\n",
    "    color_discrete_map=color_map,  # Apply custom color map, assuming it's defined as before\n",
    "    orientation='h',\n",
    "    title='Top 10 Countries with Highest Total Female Nobel Laureates in Physics, Chemistry, and Economics',\n",
    "    labels={'Counts': 'Total Number of Female Laureates', 'Birth Country': 'Birth Country', 'Category': 'Prize Category'},\n",
    "    text='Counts'\n",
    ")\n",
    "\n",
    "# Update the layout to match your preferences\n",
    "fig.update_layout(\n",
    "    xaxis_title='Total Number of Female Laureates',\n",
    "    yaxis_title='Birth Country',\n",
    "    yaxis={'categoryorder': 'total ascending'}\n",
    ")\n",
    "\n",
    "# Display the plot\n",
    "fig.show()"
   ]
  },
  {
   "cell_type": "code",
   "execution_count": null,
   "id": "cb804d9d-b929-4a9a-99fa-a0644f9c6b10",
   "metadata": {},
   "outputs": [],
   "source": []
  }
 ],
 "metadata": {
  "kernelspec": {
   "display_name": "Myproject",
   "language": "python",
   "name": "myproject"
  },
  "language_info": {
   "codemirror_mode": {
    "name": "ipython",
    "version": 3
   },
   "file_extension": ".py",
   "mimetype": "text/x-python",
   "name": "python",
   "nbconvert_exporter": "python",
   "pygments_lexer": "ipython3",
   "version": "3.11.5"
  }
 },
 "nbformat": 4,
 "nbformat_minor": 5
}
